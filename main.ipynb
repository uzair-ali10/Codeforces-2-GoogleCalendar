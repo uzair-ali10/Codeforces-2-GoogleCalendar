{
  "nbformat": 4,
  "nbformat_minor": 0,
  "metadata": {
    "colab": {
      "name": "Codeforces-2-GoogleCalendar .ipynb",
      "provenance": [],
      "collapsed_sections": []
    },
    "kernelspec": {
      "display_name": "Python 3",
      "name": "python3"
    }
  },
  "cells": [
    {
      "cell_type": "markdown",
      "metadata": {
        "id": "1o-uqF6l_cIF"
      },
      "source": [
        "**Codeforces-2-GoogleCalendar** \\\n",
        "Find information on how to use this notebook [here](https://github.com/uzair-ali10/Codeforces-2-GoogleCalendar) or proceed to the link below\\\n",
        "https://github.com/uzair-ali10/Codeforces-2-GoogleCalendar "
      ]
    },
    {
      "cell_type": "markdown",
      "metadata": {
        "id": "kP9TsaqCAfZ9"
      },
      "source": [
        "**Block 1**"
      ]
    },
    {
      "cell_type": "code",
      "metadata": {
        "id": "wO-tH3Nlj0Cn"
      },
      "source": [
        "pip install datefinder"
      ],
      "execution_count": null,
      "outputs": []
    },
    {
      "cell_type": "markdown",
      "metadata": {
        "id": "Hs_rasVKAib5"
      },
      "source": [
        "**Block 2**"
      ]
    },
    {
      "cell_type": "code",
      "metadata": {
        "id": "-5ZT0cGNmAlS"
      },
      "source": [
        "import pickle\n",
        "import datefinder\n",
        "from datetime import timedelta\n",
        "from googleapiclient.discovery import build\n",
        "from google_auth_oauthlib.flow import InstalledAppFlow\n",
        "\n",
        "scopes = ['https://www.googleapis.com/auth/calendar']\n",
        "flow = InstalledAppFlow.from_client_secrets_file(\"/content/client_secret.json\", scopes=scopes)\n",
        "credentials = flow.run_console()\n",
        "calender_id='rizwansaaduzair@gmail.com'\n",
        "pickle.dump(credentials, open(\"token.pkl\", \"wb\"))\n",
        "credentials = pickle.load(open(\"token.pkl\", \"rb\"))\n",
        "service = build(\"calendar\", \"v3\", credentials=credentials)"
      ],
      "execution_count": null,
      "outputs": []
    },
    {
      "cell_type": "markdown",
      "metadata": {
        "id": "EfADvAxSAldc"
      },
      "source": [
        "**Block 3**"
      ]
    },
    {
      "cell_type": "code",
      "metadata": {
        "id": "E_uY94Xomw07"
      },
      "source": [
        "import requests\n",
        "import datetime\n",
        "import time; time.time()\n",
        "import json\n",
        "def create_event(start_time_str, summary, duration=1, description=None, location=None):\n",
        "    matches = list(datefinder.find_dates(start_time_str))\n",
        "    if len(matches):\n",
        "        start_time = matches[0]\n",
        "        end_time = start_time + timedelta(hours=duration)\n",
        "    event = {\n",
        "        'summary': summary,\n",
        "        'location': location,\n",
        "        'description': description,\n",
        "        'start': {\n",
        "            'dateTime': start_time.strftime(\"%Y-%m-%dT%H:%M:%S\"),\n",
        "            'timeZone': 'Asia/Kolkata',\n",
        "        },\n",
        "        'end': {\n",
        "            'dateTime': end_time.strftime(\"%Y-%m-%dT%H:%M:%S\"),\n",
        "            'timeZone': 'Asia/Kolkata',\n",
        "        },\n",
        "        'reminders': {\n",
        "            'useDefault': False,\n",
        "            'overrides': [\n",
        "                {'method': 'email', 'minutes': 24 * 60},\n",
        "                {'method': 'popup', 'minutes': 10},\n",
        "            ],\n",
        "        },\n",
        "    }\n",
        "    return service.events().insert(calendarId='primary', body=event).execute()\n",
        "create_event(\"2021-03-27 18:00:00\", \"new test\")\n",
        "\n",
        "div='(Div. 1)'\n",
        "\n",
        "def extract(var):  \n",
        "        if (div in var['name']):\n",
        "            return True\n",
        "        else:\n",
        "            return False\n",
        "\n",
        "response=requests.get(\"https://codeforces.com/api/contest.list\")\n",
        "events=response.json()\n",
        "filename='data.txt'\n",
        "with open(filename, 'w') as txt_file_open:\n",
        "    json.dump(events, txt_file_open,indent=4)\n",
        "res=events['result']\n",
        "filtered = filter(extract, res)\n",
        "for s in filtered:\n",
        "    e = s['startTimeSeconds']\n",
        "    dt = str(datetime.datetime.fromtimestamp(e))\n",
        "    create_event(dt, s['name'])\n"
      ],
      "execution_count": null,
      "outputs": []
    }
  ]
}